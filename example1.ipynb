{
 "cells": [
  {
   "cell_type": "code",
   "execution_count": 1,
   "metadata": {},
   "outputs": [],
   "source": [
    "#gerekli kutuphanelerin projeye dahil edilmesi\n",
    "from langchain.chains import APIChain\n",
    "from langchain.llms import OpenAI\n",
    "\n",
    "# open_meteo_docs api icin gerekli paket\n",
    "from langchain.chains.api import open_meteo_docs\n",
    "\n",
    "#tmdb api icin gerekli paket\n",
    "from langchain.chains.api import tmdb_docs\n",
    "\n",
    "import os"
   ]
  },
  {
   "cell_type": "code",
   "execution_count": 2,
   "metadata": {},
   "outputs": [],
   "source": [
    "#genis dil modeli objesinin olusturulmasi. Burada OpenAI hesabinizin User kismindan erisebileceginiz API key'inizi kullanmaniz gerek\n",
    "#Not: API key'inizi hickimseyle paylasmamaniz gerekir \n",
    "llm = OpenAI(temperature=0, openai_api_key=\"\")"
   ]
  },
  {
   "cell_type": "code",
   "execution_count": 3,
   "metadata": {},
   "outputs": [
    {
     "data": {
      "text/plain": [
       "'\\n\\n1. Mocha\\n2. Hershey\\n3. Coco\\n4. Java\\n5. Truffles'"
      ]
     },
     "execution_count": 3,
     "metadata": {},
     "output_type": "execute_result"
    }
   ],
   "source": [
    "#LLM normal kullanimi\n",
    "llm.predict(\"What would be 5 good names for a huge brown dog with white and black dotted details?\")"
   ]
  },
  {
   "cell_type": "code",
   "execution_count": null,
   "metadata": {},
   "outputs": [],
   "source": [
    "#OpenMeteo APIChain\n",
    "chain_new = APIChain.from_llm_and_api_docs(llm, open_meteo_docs.OPEN_METEO_DOCS, verbose=True)\n",
    "chain_new.run('What is the weather like right now in Dubai, UAE in degrees Celcius?')"
   ]
  },
  {
   "cell_type": "code",
   "execution_count": 6,
   "metadata": {},
   "outputs": [],
   "source": [
    "#Burada TMDB'nin kendi sitesine kaydolup olusturdugumuz Access Token'i kullaniyoruz.\n",
    "os.environ['TMDB_BEARER_TOKEN'] = \"{your access token}\"\n",
    "#TMDB veritabanina gonderecegimiz Request'imize yetkilendirme bilgilerimizi aktariyoruz\n",
    "headers = {\"Authorization\": f\"Bearer {os.environ['TMDB_BEARER_TOKEN']}\"}"
   ]
  },
  {
   "cell_type": "code",
   "execution_count": null,
   "metadata": {},
   "outputs": [],
   "source": [
    "#Zincirimizi bu iki satirlik kod ile kolayca olusturup veri yurutebiliriz.\n",
    "chain = APIChain.from_llm_and_api_docs(llm, tmdb_docs.TMDB_DOCS, headers=headers, verbose=True)\n",
    "chain.run(\"Search for 'Oceans 8'\")"
   ]
  }
 ],
 "metadata": {
  "kernelspec": {
   "display_name": "Python 3",
   "language": "python",
   "name": "python3"
  },
  "language_info": {
   "codemirror_mode": {
    "name": "ipython",
    "version": 3
   },
   "file_extension": ".py",
   "mimetype": "text/x-python",
   "name": "python",
   "nbconvert_exporter": "python",
   "pygments_lexer": "ipython3",
   "version": "3.10.11"
  },
  "orig_nbformat": 4
 },
 "nbformat": 4,
 "nbformat_minor": 2
}
