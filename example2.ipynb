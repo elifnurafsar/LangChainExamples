{
 "cells": [
  {
   "attachments": {},
   "cell_type": "markdown",
   "metadata": {},
   "source": [
    "## Sohbet Modelleri Kullanımı"
   ]
  },
  {
   "cell_type": "code",
   "execution_count": 1,
   "metadata": {},
   "outputs": [],
   "source": [
    "from langchain.chains import LLMChain\n",
    "from langchain.prompts import PromptTemplate\n",
    "from langchain.chat_models import ChatOpenAI\n",
    "from langchain.prompts import ChatPromptTemplate"
   ]
  },
  {
   "attachments": {},
   "cell_type": "markdown",
   "metadata": {},
   "source": [
    "GPT 3.5 turbo kullanan bir ChatOpenAI objesi oluşturuyoruz"
   ]
  },
  {
   "cell_type": "code",
   "execution_count": null,
   "metadata": {},
   "outputs": [],
   "source": [
    "llm = ChatOpenAI(temperature=0, openai_api_key=\"\")\n",
    "llm"
   ]
  },
  {
   "attachments": {},
   "cell_type": "markdown",
   "metadata": {},
   "source": [
    "Burada istem şablonu oluşturuyoruz"
   ]
  },
  {
   "cell_type": "code",
   "execution_count": 4,
   "metadata": {},
   "outputs": [],
   "source": [
    "prompt = PromptTemplate.from_template(\"What are the popular puppet plays in {country} culture?\")"
   ]
  },
  {
   "cell_type": "code",
   "execution_count": 5,
   "metadata": {},
   "outputs": [
    {
     "data": {
      "text/plain": [
       "PromptTemplate(input_variables=['country'], output_parser=None, partial_variables={}, template='What are the popular puppet plays in {country} culture?', template_format='f-string', validate_template=True)"
      ]
     },
     "execution_count": 5,
     "metadata": {},
     "output_type": "execute_result"
    }
   ],
   "source": [
    "prompt"
   ]
  },
  {
   "cell_type": "code",
   "execution_count": 6,
   "metadata": {},
   "outputs": [],
   "source": [
    "chain = LLMChain(llm=llm, prompt=prompt)\n",
    "res = chain.run(\"German\")"
   ]
  },
  {
   "cell_type": "code",
   "execution_count": 7,
   "metadata": {},
   "outputs": [
    {
     "name": "stdout",
     "output_type": "stream",
     "text": [
      "Some popular puppet plays in German culture include:\n",
      "\n",
      "1. Kasperl and Seppel: This is a classic puppet play that features two characters, Kasperl and Seppel, who go on various adventures and solve problems.\n",
      "\n",
      "2. Punch and Judy: This is a traditional puppet play that originated in England but is also popular in Germany. It features the characters of Punch and Judy, who engage in slapstick comedy and often end up in violent confrontations.\n",
      "\n",
      "3. The Three Little Pigs: This is a popular children's story that has been adapted into a puppet play in Germany. It tells the story of three pigs who build houses of straw, sticks, and bricks, and their encounter with a hungry wolf.\n",
      "\n",
      "4. The Pied Piper of Hamelin: This is another popular children's story that has been adapted into a puppet play in Germany. It tells the story of a piper who is hired to rid a town of its rats, but when the townspeople refuse to pay him, he leads their children away.\n",
      "\n",
      "5. The Magic Flute: This is a puppet play based on the famous opera by Mozart. It tells the story of a prince who must rescue his love from the Queen of the Night with the help of a magic flute.\n"
     ]
    }
   ],
   "source": [
    "print(res)"
   ]
  },
  {
   "cell_type": "code",
   "execution_count": 8,
   "metadata": {},
   "outputs": [
    {
     "data": {
      "text/plain": [
       "str"
      ]
     },
     "execution_count": 8,
     "metadata": {},
     "output_type": "execute_result"
    }
   ],
   "source": [
    "type(res)"
   ]
  },
  {
   "attachments": {},
   "cell_type": "markdown",
   "metadata": {},
   "source": [
    "Şimdi bize verilen çıktıyı \"Çıktı Ayrıştırıcıları\" kullanarak formatlayacağız."
   ]
  },
  {
   "cell_type": "code",
   "execution_count": 9,
   "metadata": {},
   "outputs": [
    {
     "name": "stdout",
     "output_type": "stream",
     "text": [
      "input_variables=['text'] output_parser=None partial_variables={} messages=[HumanMessagePromptTemplate(prompt=PromptTemplate(input_variables=['text'], output_parser=None, partial_variables={}, template='For the following text, extract the following information:\\n\\nname: Extrtact the name of the puppet plays? If this information is not found, output -1.\\n\\ncontent: Extract any information that defines the content of listed puppet plays?If this information is not found, output -1.\\n\\nFormat the output as JSON with the following keys:\\nname\\ncontent\\n\\ntext: {text}\\n', template_format='f-string', validate_template=True), additional_kwargs={})]\n"
     ]
    }
   ],
   "source": [
    "template = \"\"\"\\\n",
    "For the following text, extract the following information:\n",
    "\n",
    "name: Extrtact the name of the puppet plays? \\\n",
    "If this information is not found, output -1.\n",
    "\n",
    "content: Extract any information that defines the content of listed puppet plays?\\\n",
    "If this information is not found, output -1.\n",
    "\n",
    "Format the output as JSON with the following keys:\n",
    "name\n",
    "content\n",
    "\n",
    "text: {text}\n",
    "\"\"\"\n",
    "\n",
    "prompt_template = ChatPromptTemplate.from_template(template)\n",
    "print(prompt_template)"
   ]
  },
  {
   "cell_type": "code",
   "execution_count": 10,
   "metadata": {},
   "outputs": [
    {
     "name": "stderr",
     "output_type": "stream",
     "text": [
      "Retrying langchain.chat_models.openai.ChatOpenAI.completion_with_retry.<locals>._completion_with_retry in 1.0 seconds as it raised APIConnectionError: Error communicating with OpenAI: ('Connection aborted.', RemoteDisconnected('Remote end closed connection without response')).\n"
     ]
    },
    {
     "name": "stdout",
     "output_type": "stream",
     "text": [
      "{\n",
      "  \"name\": [\"Kasperl and Seppel\", \"Punch and Judy\", \"The Three Little Pigs\", \"The Pied Piper of Hamelin\", \"The Magic Flute\"],\n",
      "  \"content\": [\"classic puppet play featuring two characters who go on various adventures and solve problems\", \"traditional puppet play featuring characters who engage in slapstick comedy and often end up in violent confrontations\", \"children's story about three pigs who build houses and encounter a hungry wolf\", \"children's story about a piper who leads away the town's children\", \"puppet play based on the famous opera by Mozart about a prince who must rescue his love from the Queen of the Night with the help of a magic flute\"]\n",
      "}\n"
     ]
    }
   ],
   "source": [
    "formatted_res = prompt_template.format_messages(text=res)\n",
    "response = llm(formatted_res)\n",
    "print(response.content)"
   ]
  },
  {
   "cell_type": "code",
   "execution_count": 11,
   "metadata": {},
   "outputs": [
    {
     "data": {
      "text/plain": [
       "str"
      ]
     },
     "execution_count": 11,
     "metadata": {},
     "output_type": "execute_result"
    }
   ],
   "source": [
    "type(response.content)"
   ]
  },
  {
   "attachments": {},
   "cell_type": "markdown",
   "metadata": {},
   "source": [
    "Büyük dil modelinin vermiş olduğu \"string\" tipindeki çıktımızı Python \"dictionary\" tipine çevireceğiz"
   ]
  },
  {
   "cell_type": "code",
   "execution_count": 12,
   "metadata": {},
   "outputs": [],
   "source": [
    "#gerekli paketler\n",
    "from langchain.output_parsers import ResponseSchema\n",
    "from langchain.output_parsers import StructuredOutputParser"
   ]
  },
  {
   "cell_type": "code",
   "execution_count": 13,
   "metadata": {},
   "outputs": [],
   "source": [
    "name_schema = ResponseSchema(name=\"name\",\n",
    "                             description=\"Extrtact the name of the puppet plays? \\\n",
    "If this information is not found, output -1.\")\n",
    "content_schema = ResponseSchema(name=\"content\",\n",
    "                                      description=\"Extract any information that defines the content of listed puppet plays?\\\n",
    "If this information is not found, output -1.\")\n",
    "\n",
    "response_schemas = [name_schema, content_schema]"
   ]
  },
  {
   "cell_type": "code",
   "execution_count": 14,
   "metadata": {},
   "outputs": [],
   "source": [
    "output_parser = StructuredOutputParser.from_response_schemas(response_schemas)\n",
    "#format_instructions = output_parser.get_format_instructions()\n",
    "#print(format_instructions)"
   ]
  },
  {
   "cell_type": "code",
   "execution_count": 15,
   "metadata": {},
   "outputs": [
    {
     "name": "stdout",
     "output_type": "stream",
     "text": [
      "{'name': ['Kasperl and Seppel', 'Punch and Judy', 'The Three Little Pigs', 'The Pied Piper of Hamelin', 'The Magic Flute'], 'content': ['classic puppet play featuring two characters who go on various adventures and solve problems', 'traditional puppet play featuring characters who engage in slapstick comedy and often end up in violent confrontations', \"children's story about three pigs who build houses and encounter a hungry wolf\", \"children's story about a piper who leads away the town's children\", 'puppet play based on the famous opera by Mozart about a prince who must rescue his love from the Queen of the Night with the help of a magic flute']}\n"
     ]
    }
   ],
   "source": [
    "output_dict = output_parser.parse(response.content)\n",
    "print(output_dict)"
   ]
  },
  {
   "cell_type": "code",
   "execution_count": 16,
   "metadata": {},
   "outputs": [
    {
     "data": {
      "text/plain": [
       "dict"
      ]
     },
     "execution_count": 16,
     "metadata": {},
     "output_type": "execute_result"
    }
   ],
   "source": [
    "type(output_dict)"
   ]
  },
  {
   "cell_type": "code",
   "execution_count": 20,
   "metadata": {},
   "outputs": [
    {
     "name": "stdout",
     "output_type": "stream",
     "text": [
      "All names:  ['Kasperl and Seppel', 'Punch and Judy', 'The Three Little Pigs', 'The Pied Piper of Hamelin', 'The Magic Flute']\n",
      "--------------------------------------\n",
      "First element:  Kasperl and Seppel\n"
     ]
    }
   ],
   "source": [
    "print(\"All names: \" , output_dict.get('name'))\n",
    "print(\"--------------------------------------\")\n",
    "print(\"First element: \" , output_dict.get('name')[0])"
   ]
  },
  {
   "attachments": {},
   "cell_type": "markdown",
   "metadata": {},
   "source": [
    "##### LangChain şemalarının kullanımı"
   ]
  },
  {
   "cell_type": "code",
   "execution_count": 35,
   "metadata": {},
   "outputs": [],
   "source": [
    "from langchain.schema import (\n",
    "    HumanMessage,\n",
    "    AIMessage\n",
    ")"
   ]
  },
  {
   "cell_type": "code",
   "execution_count": 36,
   "metadata": {},
   "outputs": [
    {
     "name": "stderr",
     "output_type": "stream",
     "text": [
      "Retrying langchain.chat_models.openai.ChatOpenAI.completion_with_retry.<locals>._completion_with_retry in 1.0 seconds as it raised APIConnectionError: Error communicating with OpenAI: ('Connection aborted.', RemoteDisconnected('Remote end closed connection without response')).\n"
     ]
    },
    {
     "data": {
      "text/plain": [
       "AIMessage(content='Some of the other notable characters in the Karagöz and Hacivat plays include:\\n\\n1. Tuzsuz Deli Bekir - a crazy character who is always looking for trouble\\n2. Tiryaki - a drug addict who is always in a daze\\n3. Civan - a strong and brave character who is always ready for a fight\\n4. Zenne - a female character who is often portrayed as flirtatious and seductive\\n5. Kavuklu - a wise and knowledgeable character who often provides advice and guidance to the other characters\\n6. Pişekar - a cook who is always hungry and looking for food\\n7. İbiş - a mischievous character who loves to play pranks on the other characters.', additional_kwargs={}, example=False)"
      ]
     },
     "execution_count": 36,
     "metadata": {},
     "output_type": "execute_result"
    }
   ],
   "source": [
    "res2 = llm.predict_messages([HumanMessage(content=\"Ottoman tradition had a rich tradition of puppet plays. One of them known as Karagöz and Hacivat. Who are some of the other notable characters in the Karagöz and Hacivat plays?\")])\n",
    "res2"
   ]
  },
  {
   "attachments": {},
   "cell_type": "markdown",
   "metadata": {},
   "source": [
    "Burada tekrar bir istemci şeması düzenleyerek çıktılarımızı daha okunaklı bir hale getiriyoruz"
   ]
  },
  {
   "cell_type": "code",
   "execution_count": 44,
   "metadata": {},
   "outputs": [
    {
     "name": "stdout",
     "output_type": "stream",
     "text": [
      "input_variables=['text'] output_parser=None partial_variables={} messages=[HumanMessagePromptTemplate(prompt=PromptTemplate(input_variables=['text'], output_parser=None, partial_variables={}, template='For the following text, extract the following information:\\n\\ncharacter_name: Extrtact the name of the characters? If this information is not found, output -1.\\n\\nrole: Extract any information that defines characteristics of that character?If this information is not found, output -1.\\n\\nFormat the output as JSON with the following keys:\\ncharacter_name\\nrole\\n\\ntext: {text}\\n', template_format='f-string', validate_template=True), additional_kwargs={})]\n"
     ]
    }
   ],
   "source": [
    "template2 = \"\"\"\\\n",
    "For the following text, extract the following information:\n",
    "\n",
    "character_name: Extrtact the name of the characters? \\\n",
    "If this information is not found, output -1.\n",
    "\n",
    "role: Extract any information that defines characteristics of that character?\\\n",
    "If this information is not found, output -1.\n",
    "\n",
    "Format the output as JSON with the following keys:\n",
    "character_name\n",
    "role\n",
    "\n",
    "text: {text}\n",
    "\"\"\"\n",
    "\n",
    "prompt_template2 = ChatPromptTemplate.from_template(template2)\n",
    "print(prompt_template2)"
   ]
  },
  {
   "cell_type": "code",
   "execution_count": 46,
   "metadata": {},
   "outputs": [
    {
     "name": "stdout",
     "output_type": "stream",
     "text": [
      "[\n",
      "  {\n",
      "    \"character_name\": \"Tuzsuz Deli Bekir\",\n",
      "    \"role\": \"a crazy character who is always looking for trouble\"\n",
      "  },\n",
      "  {\n",
      "    \"character_name\": \"Tiryaki\",\n",
      "    \"role\": \"a drug addict who is always in a daze\"\n",
      "  },\n",
      "  {\n",
      "    \"character_name\": \"Civan\",\n",
      "    \"role\": \"a strong and brave character who is always ready for a fight\"\n",
      "  },\n",
      "  {\n",
      "    \"character_name\": \"Zenne\",\n",
      "    \"role\": \"a female character who is often portrayed as flirtatious and seductive\"\n",
      "  },\n",
      "  {\n",
      "    \"character_name\": \"Kavuklu\",\n",
      "    \"role\": \"a wise and knowledgeable character who often provides advice and guidance to the other characters\"\n",
      "  },\n",
      "  {\n",
      "    \"character_name\": \"Pişekar\",\n",
      "    \"role\": \"a cook who is always hungry and looking for food\"\n",
      "  },\n",
      "  {\n",
      "    \"character_name\": \"İbiş\",\n",
      "    \"role\": \"a mischievous character who loves to play pranks on the other characters\"\n",
      "  }\n",
      "]\n"
     ]
    }
   ],
   "source": [
    "formatted_res2 = prompt_template2.format_messages(text=res2)\n",
    "response2 = llm(formatted_res2)\n",
    "print(response2.content)"
   ]
  }
 ],
 "metadata": {
  "kernelspec": {
   "display_name": "Python 3",
   "language": "python",
   "name": "python3"
  },
  "language_info": {
   "codemirror_mode": {
    "name": "ipython",
    "version": 3
   },
   "file_extension": ".py",
   "mimetype": "text/x-python",
   "name": "python",
   "nbconvert_exporter": "python",
   "pygments_lexer": "ipython3",
   "version": "3.10.11"
  },
  "orig_nbformat": 4
 },
 "nbformat": 4,
 "nbformat_minor": 2
}
